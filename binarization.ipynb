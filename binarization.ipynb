{
 "cells": [
  {
   "cell_type": "code",
   "execution_count": 1,
   "metadata": {},
   "outputs": [],
   "source": [
    "import numpy as np\n",
    "import matplotlib.pyplot as plt\n",
    "import cv2\n",
    "%matplotlib inline\n",
    "\n",
    "#ADAPTIVE THRESHOLDING\n",
    "gray_image = cv2.imread('coins.jpg',0)\n",
    "\n",
    "ret,thresh_global = cv2.threshold(gray_image,127,255,cv2.THRESH_BINARY)\n",
    "#here 11 is the pixel neighbourhood that is used to calculate the threshold value\n",
    "thresh_mean = cv2.adaptiveThreshold(gray_image,255,cv2.ADAPTIVE_THRESH_MEAN_C,cv2.THRESH_BINARY,11,2)\n",
    "\n",
    "thresh_gaussian = cv2.adaptiveThreshold(gray_image,255,cv2.ADAPTIVE_THRESH_GAUSSIAN_C,cv2.THRESH_BINARY,11,2)\n",
    "\n",
    "names = ['Original Image','Global Thresholding','Adaptive Mean Threshold','Adaptive Gaussian Thresholding']\n",
    "images = [gray_image,thresh_global,thresh_mean,thresh_gaussian]\n",
    "\n",
    "\n",
    "\n",
    "\n",
    "for i in range(4):\n",
    "    cv2.imshow(names[i],images[i])\n",
    "    #plt.subplot(2,2,i+1),plt.imshow(images[i],'gray')\n",
    "    #plt.title()\n",
    "    #plt.xticks([]),plt.yticks([])\n",
    "cv2.waitKey(0)\n",
    "cv2.destroyAllWindows()\n",
    "\n",
    "    \n",
    "#plt.show()"
   ]
  },
  {
   "cell_type": "code",
   "execution_count": null,
   "metadata": {},
   "outputs": [],
   "source": []
  }
 ],
 "metadata": {
  "kernelspec": {
   "display_name": "Python 3",
   "language": "python",
   "name": "python3"
  },
  "language_info": {
   "codemirror_mode": {
    "name": "ipython",
    "version": 3
   },
   "file_extension": ".py",
   "mimetype": "text/x-python",
   "name": "python",
   "nbconvert_exporter": "python",
   "pygments_lexer": "ipython3",
   "version": "3.6.8"
  }
 },
 "nbformat": 4,
 "nbformat_minor": 2
}
