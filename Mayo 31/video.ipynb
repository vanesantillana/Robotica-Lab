{
 "cells": [
  {
   "cell_type": "code",
   "execution_count": 4,
   "metadata": {},
   "outputs": [
    {
     "data": {
      "text/plain": [
       "-1"
      ]
     },
     "execution_count": 4,
     "metadata": {},
     "output_type": "execute_result"
    }
   ],
   "source": [
    "import numpy as np\n",
    "import cv2\n",
    "\n",
    "cap = cv2.VideoCapture('pistaoriginal.mp4')\n",
    "\n",
    "while(cap.isOpened()):\n",
    "    ret, frame = cap.read()\n",
    "    gray = cv2.cvtColor(frame, cv2.COLOR_BGR2GRAY)\n",
    "    \n",
    "    edges = cv2.Canny(frame, 50, 200)\n",
    "\n",
    "    lines = cv2.HoughLinesP(edges, 1, np.pi/180, 250, maxLineGap=200)\n",
    "\n",
    "\n",
    "    for line in lines:\n",
    "        x1, y1, x2, y2 = line[0]\n",
    "        cv2.line(gray, (x1, y1), (x2, y2), (0, 255, 0), 3)\n",
    "\n",
    "    if not ret:\n",
    "       continue\n",
    "    \n",
    "    \n",
    "    \n",
    "    \n",
    "    cv2.imshow('frame',frame)\n",
    "    if cv2.waitKey(1) & 0xFF == ord('q'):\n",
    "        break\n",
    "\n",
    "cap.release()\n",
    "cv2.destroyAllWindows()\n",
    "cv2.waitKey(1)"
   ]
  },
  {
   "cell_type": "code",
   "execution_count": null,
   "metadata": {},
   "outputs": [],
   "source": [
    "#color amarillo\n",
    "\n",
    "#pasar a binario\n",
    "#hofline\n"
   ]
  },
  {
   "cell_type": "code",
   "execution_count": 4,
   "metadata": {},
   "outputs": [
    {
     "data": {
      "text/plain": [
       "-1"
      ]
     },
     "execution_count": 4,
     "metadata": {},
     "output_type": "execute_result"
    }
   ],
   "source": [
    "import numpy as np\n",
    "import cv2\n",
    "\n",
    "cap = cv2.VideoCapture('pistaoriginal.mp4')\n",
    "ama_bajo = np.array([15,0,0])\n",
    "ama_alto = np.array([36,255,255])\n",
    "\n",
    "\n",
    "while(cap.isOpened()):\n",
    "    ret, frame = cap.read()\n",
    "    #gray = cv2.cvtColor(frame, cv2.COLOR_BGR2GRAY)\n",
    "    #rgb_image = cv2.cvtColor(frame, cv2.COLOR_BGR2RGB)\n",
    "    #hsv_image = cv2.cvtColor(rgb_image, cv2.COLOR_RGB2HSV)\n",
    "    #mascara_ama = cv2.inRange(hsv_image , ama_bajo, ama_alto )\n",
    "    #imFiltrada = cv2.bitwise_and(frame, frame, mask=mascara_ama );\n",
    "\n",
    "    edges = cv2.Canny(frame, 50, 200)\n",
    "\n",
    "    lines = cv2.HoughLinesP(edges, 1, np.pi/180, 250, maxLineGap=100)\n",
    "\n",
    "\n",
    "    for line in lines:\n",
    "        x1, y1, x2, y2 = line[0]\n",
    "        cv2.line(frame, (x1, y1), (x2, y2), (0, 255, 0), 3)\n",
    "\n",
    "    if not ret:\n",
    "       continue\n",
    "    \n",
    "        \n",
    "    cv2.imshow('frame',frame)\n",
    "    #cv2.imshow(\"mask\", edges)\n",
    "        \n",
    "    if cv2.waitKey(1) & 0xFF == ord('q'):\n",
    "        break\n",
    "\n",
    "cap.release()\n",
    "cv2.destroyAllWindows()\n",
    "cv2.waitKey(1)"
   ]
  },
  {
   "cell_type": "markdown",
   "metadata": {},
   "source": [
    "## Reconocer carretera"
   ]
  },
  {
   "cell_type": "code",
   "execution_count": 1,
   "metadata": {
    "scrolled": false
   },
   "outputs": [
    {
     "ename": "error",
     "evalue": "OpenCV(3.4.2) /io/opencv/modules/imgproc/src/color.hpp:253: error: (-215:Assertion failed) VScn::contains(scn) && VDcn::contains(dcn) && VDepth::contains(depth) in function 'CvtHelper'\n",
     "output_type": "error",
     "traceback": [
      "\u001b[0;31m---------------------------------------------------------------------------\u001b[0m",
      "\u001b[0;31merror\u001b[0m                                     Traceback (most recent call last)",
      "\u001b[0;32m<ipython-input-1-9881e00c1258>\u001b[0m in \u001b[0;36m<module>\u001b[0;34m()\u001b[0m\n\u001b[1;32m     48\u001b[0m \u001b[0;32mwhile\u001b[0m\u001b[0;34m(\u001b[0m\u001b[0mcap\u001b[0m\u001b[0;34m.\u001b[0m\u001b[0misOpened\u001b[0m\u001b[0;34m(\u001b[0m\u001b[0;34m)\u001b[0m\u001b[0;34m)\u001b[0m\u001b[0;34m:\u001b[0m\u001b[0;34m\u001b[0m\u001b[0;34m\u001b[0m\u001b[0m\n\u001b[1;32m     49\u001b[0m     \u001b[0mret\u001b[0m\u001b[0;34m,\u001b[0m \u001b[0mframe\u001b[0m \u001b[0;34m=\u001b[0m \u001b[0mcap\u001b[0m\u001b[0;34m.\u001b[0m\u001b[0mread\u001b[0m\u001b[0;34m(\u001b[0m\u001b[0;34m)\u001b[0m\u001b[0;34m\u001b[0m\u001b[0;34m\u001b[0m\u001b[0m\n\u001b[0;32m---> 50\u001b[0;31m     \u001b[0mcan\u001b[0m \u001b[0;34m=\u001b[0m \u001b[0mcanny\u001b[0m\u001b[0;34m(\u001b[0m\u001b[0mframe\u001b[0m\u001b[0;34m)\u001b[0m\u001b[0;34m\u001b[0m\u001b[0;34m\u001b[0m\u001b[0m\n\u001b[0m\u001b[1;32m     51\u001b[0m     \u001b[0;31m#cv2.imshow('canny',can)\u001b[0m\u001b[0;34m\u001b[0m\u001b[0;34m\u001b[0m\u001b[0;34m\u001b[0m\u001b[0m\n\u001b[1;32m     52\u001b[0m     \u001b[0mcrop\u001b[0m \u001b[0;34m=\u001b[0m \u001b[0mroi\u001b[0m\u001b[0;34m(\u001b[0m\u001b[0mcan\u001b[0m\u001b[0;34m)\u001b[0m\u001b[0;34m\u001b[0m\u001b[0;34m\u001b[0m\u001b[0m\n",
      "\u001b[0;32m<ipython-input-1-9881e00c1258>\u001b[0m in \u001b[0;36mcanny\u001b[0;34m(image)\u001b[0m\n\u001b[1;32m      9\u001b[0m \u001b[0;34m\u001b[0m\u001b[0m\n\u001b[1;32m     10\u001b[0m \u001b[0;32mdef\u001b[0m \u001b[0mcanny\u001b[0m\u001b[0;34m(\u001b[0m\u001b[0mimage\u001b[0m\u001b[0;34m)\u001b[0m\u001b[0;34m:\u001b[0m\u001b[0;34m\u001b[0m\u001b[0;34m\u001b[0m\u001b[0m\n\u001b[0;32m---> 11\u001b[0;31m     \u001b[0mrgb_image\u001b[0m \u001b[0;34m=\u001b[0m \u001b[0mcv2\u001b[0m\u001b[0;34m.\u001b[0m\u001b[0mcvtColor\u001b[0m\u001b[0;34m(\u001b[0m\u001b[0mimage\u001b[0m\u001b[0;34m,\u001b[0m \u001b[0mcv2\u001b[0m\u001b[0;34m.\u001b[0m\u001b[0mCOLOR_BGR2RGB\u001b[0m\u001b[0;34m)\u001b[0m   \u001b[0;31m#color\u001b[0m\u001b[0;34m\u001b[0m\u001b[0;34m\u001b[0m\u001b[0m\n\u001b[0m\u001b[1;32m     12\u001b[0m     \u001b[0mhsv_image\u001b[0m \u001b[0;34m=\u001b[0m \u001b[0mcv2\u001b[0m\u001b[0;34m.\u001b[0m\u001b[0mcvtColor\u001b[0m\u001b[0;34m(\u001b[0m\u001b[0mrgb_image\u001b[0m\u001b[0;34m,\u001b[0m \u001b[0mcv2\u001b[0m\u001b[0;34m.\u001b[0m\u001b[0mCOLOR_RGB2HSV\u001b[0m\u001b[0;34m)\u001b[0m\u001b[0;34m\u001b[0m\u001b[0;34m\u001b[0m\u001b[0m\n\u001b[1;32m     13\u001b[0m     \u001b[0mmascara_ama\u001b[0m \u001b[0;34m=\u001b[0m \u001b[0mcv2\u001b[0m\u001b[0;34m.\u001b[0m\u001b[0minRange\u001b[0m\u001b[0;34m(\u001b[0m\u001b[0mhsv_image\u001b[0m \u001b[0;34m,\u001b[0m \u001b[0mama_bajo\u001b[0m\u001b[0;34m,\u001b[0m \u001b[0mama_alto\u001b[0m \u001b[0;34m)\u001b[0m\u001b[0;34m\u001b[0m\u001b[0;34m\u001b[0m\u001b[0m\n",
      "\u001b[0;31merror\u001b[0m: OpenCV(3.4.2) /io/opencv/modules/imgproc/src/color.hpp:253: error: (-215:Assertion failed) VScn::contains(scn) && VDcn::contains(dcn) && VDepth::contains(depth) in function 'CvtHelper'\n"
     ]
    }
   ],
   "source": [
    "# Segunda opcion\n",
    "import numpy as np\n",
    "import cv2\n",
    "import matplotlib.pyplot as plt \n",
    "\n",
    "cap = cv2.VideoCapture('pistaoriginal.mp4')\n",
    "ama_bajo = np.array([15,0,0])\n",
    "ama_alto = np.array([38,255,255])\n",
    "\n",
    "def canny(image):\n",
    "    rgb_image = cv2.cvtColor(image, cv2.COLOR_BGR2RGB)   #color\n",
    "    hsv_image = cv2.cvtColor(rgb_image, cv2.COLOR_RGB2HSV)\n",
    "    mascara_ama = cv2.inRange(hsv_image , ama_bajo, ama_alto )\n",
    "    imFiltrada = cv2.bitwise_and(image, image, mask=mascara_ama );\n",
    "    #cv2.imshow('color',imFiltrada) \n",
    "    gray = cv2.cvtColor(imFiltrada, cv2.COLOR_BGR2GRAY) # gray\n",
    "    (thresh, bwimg) = cv2.threshold(gray, 127, 255, cv2.THRESH_BINARY)\n",
    "    blurred = cv2.GaussianBlur(bwimg, (3, 3), 0) #blur\n",
    "    #cv2.imshow('blu',blurred) \n",
    "    canny = cv2.Canny(blurred, 50, 150)\n",
    "    return canny\n",
    "\n",
    "def roi(image):\n",
    "    height = image.shape[0] #720 * 1280\n",
    "    width = image.shape[1]\n",
    "    cuadrilatero = np.array( [[\n",
    "        (0, height),  # abajo izq\n",
    "        (width- 80,height), # abajo der\n",
    "        (width-550,height/2+80), # arriba der\n",
    "        (600,height/2+80), # arriba izq\n",
    "        (0, height-80)]], \n",
    "        dtype=np.int32 )\n",
    "    mask = np.zeros_like(image)\n",
    "    cv2.fillPoly(mask,cuadrilatero,255)\n",
    "    mask_img = cv2.bitwise_and(image, mask)\n",
    "    \n",
    "    return mask_img\n",
    "\n",
    "def display_lines(image,lines):\n",
    "    line_img = np.zeros_like(image)\n",
    "    if lines is not None:\n",
    "        for line in lines:\n",
    "            x1, y1, x2, y2 = line.reshape(4)\n",
    "            cv2.line(line_img, (x1, y1), (x2, y2), (0, 255, 0), 3)\n",
    "            \n",
    "    return line_img\n",
    "    \n",
    "while(cap.isOpened()):\n",
    "    ret, frame = cap.read()\n",
    "    can = canny(frame) \n",
    "    #cv2.imshow('canny',can)   \n",
    "    crop = roi(can)\n",
    "    #cv2.imshow('roi',crop)   \n",
    "    \n",
    "    lines = cv2.HoughLinesP(crop, 1, np.pi/180, 100, maxLineGap=100)\n",
    "    line_image = display_lines(frame,lines)\n",
    "    cm_image = cv2.addWeighted(frame, 0.8, line_image,1,1)\n",
    "    \n",
    "    cv2.imshow('frame',cm_image)   \n",
    "    \n",
    "    if not ret:\n",
    "       continue\n",
    "        \n",
    "    if cv2.waitKey(1) & 0xFF == ord('q'):\n",
    "        break\n",
    "\n",
    "cap.release()\n",
    "cv2.destroyAllWindows()\n",
    "cv2.waitKey(1)\n"
   ]
  },
  {
   "cell_type": "code",
   "execution_count": null,
   "metadata": {},
   "outputs": [],
   "source": []
  }
 ],
 "metadata": {
  "kernelspec": {
   "display_name": "Python 3",
   "language": "python",
   "name": "python3"
  },
  "language_info": {
   "codemirror_mode": {
    "name": "ipython",
    "version": 3
   },
   "file_extension": ".py",
   "mimetype": "text/x-python",
   "name": "python",
   "nbconvert_exporter": "python",
   "pygments_lexer": "ipython3",
   "version": "3.6.8"
  }
 },
 "nbformat": 4,
 "nbformat_minor": 2
}
