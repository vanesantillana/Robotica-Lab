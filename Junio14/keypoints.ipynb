{
 "cells": [
  {
   "cell_type": "code",
   "execution_count": 1,
   "metadata": {},
   "outputs": [
    {
     "data": {
      "text/plain": [
       "-1"
      ]
     },
     "execution_count": 1,
     "metadata": {},
     "output_type": "execute_result"
    }
   ],
   "source": [
    "import cv2\n",
    "import sys\n",
    "\n",
    "\n",
    "\n",
    "procesar = True;\n",
    "\n",
    "\n",
    "def inside(r, q):\n",
    "    rx, ry, rw, rh = r\n",
    "    qx, qy, qw, qh = q\n",
    "    return rx > qx and ry > qy and rx + rw < qx + qw and ry + rh < qy + qh\n",
    "\n",
    "def draw_detections(img, rects, thickness = 1):\n",
    "    for x, y, w, h in rects:\n",
    "        pad_w, pad_h = int(0.15*w), int(0.05*h)\n",
    "        cv2.rectangle(img, (x+pad_w, y+pad_h), (x+w-pad_w, y+h-pad_h), (0, 255, 0), thickness) # crea rectangulo en coordenadas\n",
    "\n",
    "#####################################################################\n",
    "\n",
    "cap = cv2.VideoCapture();\n",
    "windowName = \"Detección de peatones\"; \n",
    "cap = cv2.VideoCapture(\"peatones.mp4\")\n",
    "cv2.namedWindow(windowName, cv2.WINDOW_NORMAL);\n",
    "\n",
    "# detector HoG \n",
    "hog = cv2.HOGDescriptor();\n",
    "\n",
    "# configura un detector SVM con Coeficientes ya entrenados del opencv \n",
    "hog.setSVMDetector( cv2.HOGDescriptor_getDefaultPeopleDetector() );\n",
    "\n",
    "while (procesar):\n",
    "\n",
    "    if (cap.isOpened):\n",
    "        ret, img = cap.read();\n",
    "\n",
    "    # perform HOG based pedestrain detection\n",
    "\n",
    "    found, w = hog.detectMultiScale(img, winStride=(8,8), padding=(32,32), scale=1.05)\n",
    "    # Imagen, winStride: Cada cuanto salta la ventana en la imagen\n",
    "                         #en cada pasada: extrae caracteristicas HOG las pasa al SVM\n",
    "    #          padding:  Agrega pixeles al rededor de la ventana , puede usarse  (8, 8), (16, 16), (24, 24), (32, 32).             \n",
    "    #          scale:    Hasta cuanto deseamos escalar la image. valores entre [1.01, 1.5]  \n",
    "    # found rectangulos \n",
    "    # w: weights peso  \n",
    "    found_filtered = []\n",
    "\n",
    "    for ri, r in enumerate(found):\n",
    "        for qi, q in enumerate(found):\n",
    "            if ri != qi and inside(r, q):\n",
    "                break\n",
    "            else:\n",
    "                found_filtered.append(r)\n",
    "\n",
    "    #draw_detections(img, found)\n",
    "    draw_detections(img, found_filtered, 10)\n",
    "\n",
    "\n",
    "####################################\n",
    "    cv2.imshow(windowName,img);\n",
    "####################################\n",
    "    # presionar x para salir\n",
    "    key = cv2.waitKey(1) \n",
    "    if (key == 27):\n",
    "        procesar = False;\n",
    "\n",
    "# close all windows\n",
    "\n",
    "\n",
    "cap.release()\n",
    "\n",
    "cv2.destroyAllWindows()\n",
    "cv2.waitKey(1)"
   ]
  },
  {
   "cell_type": "code",
   "execution_count": null,
   "metadata": {},
   "outputs": [],
   "source": []
  }
 ],
 "metadata": {
  "kernelspec": {
   "display_name": "Python 3",
   "language": "python",
   "name": "python3"
  },
  "language_info": {
   "codemirror_mode": {
    "name": "ipython",
    "version": 3
   },
   "file_extension": ".py",
   "mimetype": "text/x-python",
   "name": "python",
   "nbconvert_exporter": "python",
   "pygments_lexer": "ipython3",
   "version": "3.6.8"
  }
 },
 "nbformat": 4,
 "nbformat_minor": 2
}
