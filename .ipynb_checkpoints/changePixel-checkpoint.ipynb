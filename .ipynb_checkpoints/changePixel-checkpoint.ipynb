{
 "cells": [
  {
   "cell_type": "code",
   "execution_count": 1,
   "metadata": {},
   "outputs": [
    {
     "name": "stdout",
     "output_type": "stream",
     "text": [
      "[30 30 42]\n",
      "[255 255 255]\n",
      "(168, 300, 3)\n",
      "151200\n",
      "uint8\n"
     ]
    }
   ],
   "source": [
    "import cv2\n",
    "import numpy as np\n",
    "\n",
    "img = cv2.imread('watch.jpg',cv2.IMREAD_COLOR)\n",
    "\n",
    "px = img[55,55]\n",
    "\n",
    "print(px)\n",
    "\n",
    "\n",
    "img[55,55] = [255,255,255]\n",
    "\n",
    "px = img[55,55]\n",
    "print(px)\n",
    "\n",
    "img[100:150,100:150] = [255,255,255]\n",
    "\n",
    "\n",
    "#properties\n",
    "\n",
    "print(img.shape)\n",
    "print(img.size)\n",
    "print(img.dtype)\n",
    "\n",
    "\n",
    "watch_face = img[37:111,107:194]\n",
    "#img[0:74,0:87] = watch_face\n",
    "\n",
    "\n",
    "\n",
    "cv2.imshow('image',img)\n",
    "cv2.imshow('image2',watch_face)\n",
    "\n",
    "\n",
    "\n",
    "cv2.waitKey(0)\n",
    "cv2.destroyAllWindows()\n"
   ]
  },
  {
   "cell_type": "code",
   "execution_count": null,
   "metadata": {},
   "outputs": [],
   "source": []
  }
 ],
 "metadata": {
  "kernelspec": {
   "display_name": "Python 2",
   "language": "python",
   "name": "python2"
  },
  "language_info": {
   "codemirror_mode": {
    "name": "ipython",
    "version": 2
   },
   "file_extension": ".py",
   "mimetype": "text/x-python",
   "name": "python",
   "nbconvert_exporter": "python",
   "pygments_lexer": "ipython2",
   "version": "2.7.15"
  }
 },
 "nbformat": 4,
 "nbformat_minor": 2
}
